{
 "cells": [
  {
   "cell_type": "markdown",
   "metadata": {},
   "source": [
    "# Image Classification - Lab\n",
    "\n",
    "## Introduction\n",
    "\n",
    "Now that you have a working knowledge of CNNs and have practiced implementing associated techniques in Keras, its time to put all of those skills together. In this lab, you'll work to complete a Kaggle competition on classifying dog breeds.\n",
    "\n",
    "https://www.kaggle.com/c/dog-breed-identification\n",
    "\n",
    "## Objectives\n",
    "\n",
    "You will be able to:\n",
    "* Independently design and build a CNN for image classifcation tasks\n",
    "* Compare and apply multiple techniques for tuning a model including data augmentation and adapting pretrained models"
   ]
  },
  {
   "cell_type": "markdown",
   "metadata": {},
   "source": [
    "## Download and Load the Data\n",
    "\n",
    "Start by downloading the data locally and loading it into a Pandas DataFrame. Be forewarened that this dataset is fairly large and it is advisable to close other memory intensive applications.\n",
    "\n",
    "The data can be found here:\n",
    "\n",
    "https://www.kaggle.com/c/dog-breed-identification/data\n",
    "\n",
    "We recommend downloading the data into this directory on your local computer. From there, be sure to uncompress the folder and subfolders."
   ]
  },
  {
   "cell_type": "code",
   "execution_count": 1,
   "metadata": {},
   "outputs": [
    {
     "name": "stderr",
     "output_type": "stream",
     "text": [
      "Using TensorFlow backend.\n"
     ]
    }
   ],
   "source": [
    "import time\n",
    "import matplotlib.pyplot as plt\n",
    "import scipy\n",
    "import pandas as pd\n",
    "import numpy as np\n",
    "import os, shutil\n",
    "from PIL import Image\n",
    "from scipy import ndimage\n",
    "from keras.preprocessing.image import ImageDataGenerator, array_to_img, img_to_array, load_img\n",
    "\n",
    "np.random.seed(123)"
   ]
  },
  {
   "cell_type": "markdown",
   "metadata": {},
   "source": [
    "## Preprocessing\n",
    "\n",
    "Now that you've downloaded the data, its time to prepare it for some model building! You'll notice that the current structure provided is not the same as our lovely preprocessed folders that we've been providing you. Instead, you have one large training folder with images and a csv file with labels associated with each of these file types. \n",
    "\n",
    "Use this to create a directory substructure for a train-validation-test split as we have done previously. Also recall from our previous work that you'll also want to use one-hot encoding as we are now presented with a multi-class problem as opposed to simple binary classification."
   ]
  },
  {
   "cell_type": "code",
   "execution_count": 2,
   "metadata": {
    "scrolled": true
   },
   "outputs": [
    {
     "data": {
      "text/html": [
       "<div>\n",
       "<style scoped>\n",
       "    .dataframe tbody tr th:only-of-type {\n",
       "        vertical-align: middle;\n",
       "    }\n",
       "\n",
       "    .dataframe tbody tr th {\n",
       "        vertical-align: top;\n",
       "    }\n",
       "\n",
       "    .dataframe thead th {\n",
       "        text-align: right;\n",
       "    }\n",
       "</style>\n",
       "<table border=\"1\" class=\"dataframe\">\n",
       "  <thead>\n",
       "    <tr style=\"text-align: right;\">\n",
       "      <th></th>\n",
       "      <th>breed</th>\n",
       "    </tr>\n",
       "    <tr>\n",
       "      <th>id</th>\n",
       "      <th></th>\n",
       "    </tr>\n",
       "  </thead>\n",
       "  <tbody>\n",
       "    <tr>\n",
       "      <th>000bec180eb18c7604dcecc8fe0dba07</th>\n",
       "      <td>boston_bull</td>\n",
       "    </tr>\n",
       "    <tr>\n",
       "      <th>001513dfcb2ffafc82cccf4d8bbaba97</th>\n",
       "      <td>dingo</td>\n",
       "    </tr>\n",
       "    <tr>\n",
       "      <th>001cdf01b096e06d78e9e5112d419397</th>\n",
       "      <td>pekinese</td>\n",
       "    </tr>\n",
       "    <tr>\n",
       "      <th>00214f311d5d2247d5dfe4fe24b2303d</th>\n",
       "      <td>bluetick</td>\n",
       "    </tr>\n",
       "    <tr>\n",
       "      <th>0021f9ceb3235effd7fcde7f7538ed62</th>\n",
       "      <td>golden_retriever</td>\n",
       "    </tr>\n",
       "  </tbody>\n",
       "</table>\n",
       "</div>"
      ],
      "text/plain": [
       "                                             breed\n",
       "id                                                \n",
       "000bec180eb18c7604dcecc8fe0dba07       boston_bull\n",
       "001513dfcb2ffafc82cccf4d8bbaba97             dingo\n",
       "001cdf01b096e06d78e9e5112d419397          pekinese\n",
       "00214f311d5d2247d5dfe4fe24b2303d          bluetick\n",
       "0021f9ceb3235effd7fcde7f7538ed62  golden_retriever"
      ]
     },
     "execution_count": 2,
     "metadata": {},
     "output_type": "execute_result"
    }
   ],
   "source": [
    "#No code persay, but download and decompress the data.\n",
    "labels = pd.read_csv('labels.csv')\n",
    "labels.set_index('id', inplace = True)\n",
    "labels.head()"
   ]
  },
  {
   "cell_type": "code",
   "execution_count": 3,
   "metadata": {},
   "outputs": [
    {
     "name": "stdout",
     "output_type": "stream",
     "text": [
      "<class 'pandas.core.frame.DataFrame'>\n",
      "Index: 10222 entries, 000bec180eb18c7604dcecc8fe0dba07 to fff43b07992508bc822f33d8ffd902ae\n",
      "Data columns (total 1 columns):\n",
      "breed    10222 non-null object\n",
      "dtypes: object(1)\n",
      "memory usage: 159.7+ KB\n"
     ]
    }
   ],
   "source": [
    "labels.info()"
   ]
  },
  {
   "cell_type": "code",
   "execution_count": 4,
   "metadata": {},
   "outputs": [
    {
     "data": {
      "text/plain": [
       "['boston_bull',\n",
       " 'dingo',\n",
       " 'pekinese',\n",
       " 'bluetick',\n",
       " 'golden_retriever',\n",
       " 'bedlington_terrier',\n",
       " 'borzoi',\n",
       " 'basenji',\n",
       " 'scottish_deerhound',\n",
       " 'shetland_sheepdog',\n",
       " 'walker_hound',\n",
       " 'maltese_dog',\n",
       " 'norfolk_terrier',\n",
       " 'african_hunting_dog',\n",
       " 'wire-haired_fox_terrier',\n",
       " 'redbone',\n",
       " 'lakeland_terrier',\n",
       " 'boxer',\n",
       " 'doberman',\n",
       " 'otterhound',\n",
       " 'standard_schnauzer',\n",
       " 'irish_water_spaniel',\n",
       " 'black-and-tan_coonhound',\n",
       " 'cairn',\n",
       " 'affenpinscher',\n",
       " 'labrador_retriever',\n",
       " 'ibizan_hound',\n",
       " 'english_setter',\n",
       " 'weimaraner',\n",
       " 'giant_schnauzer',\n",
       " 'groenendael',\n",
       " 'dhole',\n",
       " 'toy_poodle',\n",
       " 'border_terrier',\n",
       " 'tibetan_terrier',\n",
       " 'norwegian_elkhound',\n",
       " 'shih-tzu',\n",
       " 'irish_terrier',\n",
       " 'kuvasz',\n",
       " 'german_shepherd',\n",
       " 'greater_swiss_mountain_dog',\n",
       " 'basset',\n",
       " 'australian_terrier',\n",
       " 'schipperke',\n",
       " 'rhodesian_ridgeback',\n",
       " 'irish_setter',\n",
       " 'appenzeller',\n",
       " 'bloodhound',\n",
       " 'samoyed',\n",
       " 'miniature_schnauzer',\n",
       " 'brittany_spaniel',\n",
       " 'kelpie',\n",
       " 'papillon',\n",
       " 'border_collie',\n",
       " 'entlebucher',\n",
       " 'collie',\n",
       " 'malamute',\n",
       " 'welsh_springer_spaniel',\n",
       " 'chihuahua',\n",
       " 'saluki',\n",
       " 'pug',\n",
       " 'malinois',\n",
       " 'komondor',\n",
       " 'airedale',\n",
       " 'leonberg',\n",
       " 'mexican_hairless',\n",
       " 'bull_mastiff',\n",
       " 'bernese_mountain_dog',\n",
       " 'american_staffordshire_terrier',\n",
       " 'lhasa',\n",
       " 'cardigan',\n",
       " 'italian_greyhound',\n",
       " 'clumber',\n",
       " 'scotch_terrier',\n",
       " 'afghan_hound',\n",
       " 'old_english_sheepdog',\n",
       " 'saint_bernard',\n",
       " 'miniature_pinscher',\n",
       " 'eskimo_dog',\n",
       " 'irish_wolfhound',\n",
       " 'brabancon_griffon',\n",
       " 'toy_terrier',\n",
       " 'chow',\n",
       " 'flat-coated_retriever',\n",
       " 'norwich_terrier',\n",
       " 'soft-coated_wheaten_terrier',\n",
       " 'staffordshire_bullterrier',\n",
       " 'english_foxhound',\n",
       " 'gordon_setter',\n",
       " 'siberian_husky',\n",
       " 'newfoundland',\n",
       " 'briard',\n",
       " 'chesapeake_bay_retriever',\n",
       " 'dandie_dinmont',\n",
       " 'great_pyrenees',\n",
       " 'beagle',\n",
       " 'vizsla',\n",
       " 'west_highland_white_terrier',\n",
       " 'kerry_blue_terrier',\n",
       " 'whippet',\n",
       " 'sealyham_terrier',\n",
       " 'standard_poodle',\n",
       " 'keeshond',\n",
       " 'japanese_spaniel',\n",
       " 'miniature_poodle',\n",
       " 'pomeranian',\n",
       " 'curly-coated_retriever',\n",
       " 'yorkshire_terrier',\n",
       " 'pembroke',\n",
       " 'great_dane',\n",
       " 'blenheim_spaniel',\n",
       " 'silky_terrier',\n",
       " 'sussex_spaniel',\n",
       " 'german_short-haired_pointer',\n",
       " 'french_bulldog',\n",
       " 'bouvier_des_flandres',\n",
       " 'tibetan_mastiff',\n",
       " 'english_springer',\n",
       " 'cocker_spaniel',\n",
       " 'rottweiler']"
      ]
     },
     "execution_count": 4,
     "metadata": {},
     "output_type": "execute_result"
    }
   ],
   "source": [
    "breed_list = list(labels['breed'].unique())\n",
    "breed_list"
   ]
  },
  {
   "cell_type": "code",
   "execution_count": 5,
   "metadata": {},
   "outputs": [
    {
     "name": "stdout",
     "output_type": "stream",
     "text": [
      "120\n"
     ]
    }
   ],
   "source": [
    "n_breeds = len(breed_list)\n",
    "print(n_breeds)"
   ]
  },
  {
   "cell_type": "code",
   "execution_count": 7,
   "metadata": {},
   "outputs": [
    {
     "name": "stdout",
     "output_type": "stream",
     "text": [
      "10222\n"
     ]
    }
   ],
   "source": [
    "data_dir_train = 'train_images'\n",
    "imgs_train = [file for file in os.listdir(data_dir_train)]\n",
    "n_train = len(imgs_train)\n",
    "print(len(imgs_train))"
   ]
  },
  {
   "cell_type": "code",
   "execution_count": 8,
   "metadata": {},
   "outputs": [
    {
     "name": "stdout",
     "output_type": "stream",
     "text": [
      "000bec180eb18c7604dcecc8fe0dba07\n"
     ]
    },
    {
     "data": {
      "text/plain": [
       "'boston_bull'"
      ]
     },
     "execution_count": 8,
     "metadata": {},
     "output_type": "execute_result"
    }
   ],
   "source": [
    "x = imgs_train[0][:-4]\n",
    "print(x)\n",
    "labels.loc[x].values[0]"
   ]
  },
  {
   "cell_type": "code",
   "execution_count": 10,
   "metadata": {},
   "outputs": [
    {
     "name": "stdout",
     "output_type": "stream",
     "text": [
      "8178 1022 1022\n"
     ]
    }
   ],
   "source": [
    "val_prop = 0.1\n",
    "test_prop = 0.1\n",
    "np.random.seed(123)\n",
    "\n",
    "train_index = list(range(0, n_train))\n",
    "\n",
    "val_index = np.random.choice(train_index, size = round(val_prop*n_train), replace = False)\n",
    "train_index = [x for x in train_index if x not in val_index]\n",
    "\n",
    "test_index = np.random.choice(train_index, size = round(test_prop*n_train), replace = False)\n",
    "train_index = [x for x in train_index if x not in test_index]\n",
    "\n",
    "n_train = len(train_index)\n",
    "n_val = len(val_index)\n",
    "n_test = len(test_index)\n",
    "print(len(train_index), len(test_index), len(val_index))"
   ]
  },
  {
   "cell_type": "markdown",
   "metadata": {},
   "source": [
    "We wish to create our standard directory structure:\n",
    "* train\n",
    "    * category1\n",
    "    * category2\n",
    "    * category3\n",
    "    ...\n",
    "* val\n",
    "    * category1\n",
    "    * category2\n",
    "    * category3\n",
    "    ...\n",
    "* test \n",
    "    * category1\n",
    "    * category2\n",
    "    * category3\n",
    "    ...  "
   ]
  },
  {
   "cell_type": "code",
   "execution_count": null,
   "metadata": {},
   "outputs": [],
   "source": [
    "for breed in breed_list:\n",
    "    os.mkdir(f'train\\{breed}')\n",
    "    os.mkdir(f'val\\{breed}')\n",
    "    os.mkdir(f'test\\{breed}')"
   ]
  },
  {
   "cell_type": "code",
   "execution_count": null,
   "metadata": {},
   "outputs": [],
   "source": [
    "for i in train_index:\n",
    "    img_file = imgs_train[i]\n",
    "    img_id = img_file[:-4]\n",
    "    img_class = labels.loc[img_id].values[0]\n",
    "    origin = os.path.join(data_dir_train, img_file)\n",
    "    destination = os.path.join(f'train\\{img_class}', img_file)\n",
    "    shutil.copyfile(origin, destination)"
   ]
  },
  {
   "cell_type": "code",
   "execution_count": null,
   "metadata": {},
   "outputs": [],
   "source": [
    "for i in val_index:\n",
    "    img_file = imgs_train[i]\n",
    "    img_id = img_file[:-4]\n",
    "    img_class = labels.loc[img_id].values[0]\n",
    "    origin = os.path.join(data_dir_train, img_file)\n",
    "    destination = os.path.join(f'val\\{img_class}', img_file)\n",
    "    shutil.copyfile(origin, destination)"
   ]
  },
  {
   "cell_type": "code",
   "execution_count": null,
   "metadata": {},
   "outputs": [],
   "source": [
    "for i in test_index:\n",
    "    img_file = imgs_train[i]\n",
    "    img_id = img_file[:-4]\n",
    "    img_class = labels.loc[img_id].values[0]\n",
    "    origin = os.path.join(data_dir_train, img_file)\n",
    "    destination = os.path.join(f'test\\{img_class}', img_file)\n",
    "    shutil.copyfile(origin, destination)"
   ]
  },
  {
   "cell_type": "code",
   "execution_count": 18,
   "metadata": {},
   "outputs": [
    {
     "name": "stdout",
     "output_type": "stream",
     "text": [
      "Found 8178 images belonging to 120 classes.\n",
      "Found 1022 images belonging to 120 classes.\n",
      "Found 1022 images belonging to 120 classes.\n"
     ]
    }
   ],
   "source": [
    "#Your code here; open the labels.csv file stored in the zip file\n",
    "res = 64\n",
    "\n",
    "train_generator = ImageDataGenerator(rescale=1./255).flow_from_directory(\n",
    "        'train', \n",
    "        target_size=(res, res), batch_size = n_train) \n",
    "\n",
    "val_generator = ImageDataGenerator(rescale=1./255).flow_from_directory(\n",
    "        'val', \n",
    "        target_size=(res, res), batch_size = n_val) \n",
    "\n",
    "test_generator = ImageDataGenerator(rescale=1./255).flow_from_directory(\n",
    "        'test', \n",
    "        target_size=(res, res), batch_size = n_test) "
   ]
  },
  {
   "cell_type": "code",
   "execution_count": 19,
   "metadata": {},
   "outputs": [],
   "source": [
    "train_images, train_labels = next(train_generator)\n",
    "test_images, test_labels = next(test_generator)\n",
    "val_images, val_labels = next(val_generator)"
   ]
  },
  {
   "cell_type": "code",
   "execution_count": 20,
   "metadata": {},
   "outputs": [
    {
     "name": "stdout",
     "output_type": "stream",
     "text": [
      "Number of training samples: 8178\n",
      "Number of testing samples: 1022\n",
      "Number of validation samples: 1022\n",
      "train_images shape: (8178, 64, 64, 3)\n",
      "train_labels shape: (8178, 120)\n",
      "test_images shape: (1022, 64, 64, 3)\n",
      "test_labels shape: (1022, 120)\n",
      "val_images shape: (1022, 64, 64, 3)\n",
      "val_labels shape: (1022, 120)\n"
     ]
    }
   ],
   "source": [
    "# Explore your dataset again\n",
    "m_train = train_images.shape[0]\n",
    "num_px = train_images.shape[1]\n",
    "m_test = test_images.shape[0]\n",
    "m_val = val_images.shape[0]\n",
    "\n",
    "print (\"Number of training samples: \" + str(m_train))\n",
    "print (\"Number of testing samples: \" + str(m_test))\n",
    "print (\"Number of validation samples: \" + str(m_val))\n",
    "print (\"train_images shape: \" + str(train_images.shape))\n",
    "print (\"train_labels shape: \" + str(train_labels.shape))\n",
    "print (\"test_images shape: \" + str(test_images.shape))\n",
    "print (\"test_labels shape: \" + str(test_labels.shape))\n",
    "print (\"val_images shape: \" + str(val_images.shape))\n",
    "print (\"val_labels shape: \" + str(val_labels.shape))"
   ]
  },
  {
   "cell_type": "markdown",
   "metadata": {},
   "source": [
    "## Optional: Build a Baseline CNN\n",
    "\n",
    "This is an optional step. Adapting a pretrained model will produce better results, but it may be interesting to create a CNN from scratch as a baseline. If you wish to, do so here."
   ]
  },
  {
   "cell_type": "code",
   "execution_count": 14,
   "metadata": {},
   "outputs": [],
   "source": [
    "from keras import models\n",
    "from keras import layers\n"
   ]
  },
  {
   "cell_type": "code",
   "execution_count": 15,
   "metadata": {},
   "outputs": [
    {
     "name": "stdout",
     "output_type": "stream",
     "text": [
      "WARNING:tensorflow:From C:\\Users\\david\\Anaconda3\\lib\\site-packages\\tensorflow\\python\\framework\\op_def_library.py:263: colocate_with (from tensorflow.python.framework.ops) is deprecated and will be removed in a future version.\n",
      "Instructions for updating:\n",
      "Colocations handled automatically by placer.\n"
     ]
    }
   ],
   "source": [
    "#Create a baseline CNN model\n",
    "np.random.seed(123)\n",
    "model = models.Sequential()\n",
    "model.add(layers.Conv2D(32, (3, 3), activation='relu',\n",
    "                        input_shape=(128 ,128,  3)))\n",
    "model.add(layers.MaxPooling2D((2, 2)))\n",
    "\n",
    "model.add(layers.Conv2D(32, (4, 4), activation='relu'))\n",
    "model.add(layers.MaxPooling2D((2, 2)))\n",
    "\n",
    "model.add(layers.Conv2D(64, (3, 3), activation='relu'))\n",
    "model.add(layers.MaxPooling2D((2, 2)))\n",
    "\n",
    "model.add(layers.Flatten())\n",
    "model.add(layers.Dense(n_breeds, activation='softmax'))\n",
    "\n",
    "model.compile(loss='categorical_crossentropy',\n",
    "              optimizer=\"sgd\",\n",
    "              metrics=['acc'])"
   ]
  },
  {
   "cell_type": "code",
   "execution_count": null,
   "metadata": {},
   "outputs": [],
   "source": [
    "#history = model.fit(train_images,\n",
    "#                    train_labels,\n",
    "#                    epochs=10,\n",
    "#                    batch_size=500,\n",
    "#                    validation_data=(val_images, val_labels))"
   ]
  },
  {
   "cell_type": "markdown",
   "metadata": {},
   "source": [
    "## Loading a Pretrained CNN"
   ]
  },
  {
   "cell_type": "code",
   "execution_count": 21,
   "metadata": {},
   "outputs": [],
   "source": [
    "from keras.applications import VGG19\n",
    "cnn_base = VGG19(weights='imagenet',\n",
    "                  include_top=False,\n",
    "                  input_shape=(res, res, 3))"
   ]
  },
  {
   "cell_type": "code",
   "execution_count": 32,
   "metadata": {},
   "outputs": [],
   "source": [
    "def extract_features(directory, sample_amount):\n",
    "    \n",
    "    features = np.zeros(shape=(sample_amount, 2, 2, 512)) \n",
    "    labels = np.zeros(shape=(sample_amount, n_breeds))\n",
    "    \n",
    "    batch_size = 2\n",
    "    generator = ImageDataGenerator(rescale=1./255).flow_from_directory(\n",
    "        directory, target_size=(res, res), \n",
    "        batch_size = batch_size, \n",
    "        class_mode='categorical')\n",
    "    i=0\n",
    "    for inputs_batch, labels_batch in generator:\n",
    "        features_batch = cnn_base.predict(inputs_batch)\n",
    "        features[i * batch_size : (i + 1) * batch_size] = features_batch \n",
    "        labels[i * batch_size : (i + 1) * batch_size, :] = labels_batch\n",
    "        i = i + 1\n",
    "        if i * batch_size >= sample_amount:\n",
    "            break\n",
    "    return features, labels"
   ]
  },
  {
   "cell_type": "code",
   "execution_count": 33,
   "metadata": {},
   "outputs": [
    {
     "name": "stdout",
     "output_type": "stream",
     "text": [
      "Found 8178 images belonging to 120 classes.\n",
      "Found 1022 images belonging to 120 classes.\n",
      "Found 1022 images belonging to 120 classes.\n"
     ]
    }
   ],
   "source": [
    "train_features, train_labels = extract_features('train', n_train) \n",
    "validation_features, validation_labels = extract_features('val', n_val) \n",
    "test_features, test_labels = extract_features('test', n_test)\n",
    "\n",
    "train_features = np.reshape(train_features, (n_train, 2 * 2 * 512))\n",
    "validation_features = np.reshape(validation_features, (n_val, 2 * 2 * 512))\n",
    "test_features = np.reshape(test_features, (n_test, 2 * 2 * 512))"
   ]
  },
  {
   "cell_type": "markdown",
   "metadata": {},
   "source": [
    "## Feature Engineering with the Pretrained Model\n",
    "\n",
    "Now that you've loaded a pretrained model, it's time to adapt that convolutional base and add some fully connected layers on top in order to build a classifier from these feature maps."
   ]
  },
  {
   "cell_type": "code",
   "execution_count": 40,
   "metadata": {},
   "outputs": [
    {
     "name": "stdout",
     "output_type": "stream",
     "text": [
      "Train on 8178 samples, validate on 1022 samples\n",
      "Epoch 1/20\n",
      "8178/8178 [==============================] - 8s 975us/step - loss: 7.0808 - acc: 0.0153 - val_loss: 5.8806 - val_acc: 0.0205\n",
      "Epoch 2/20\n",
      "8178/8178 [==============================] - 7s 837us/step - loss: 5.5619 - acc: 0.0312 - val_loss: 5.4356 - val_acc: 0.0294\n",
      "Epoch 3/20\n",
      "8178/8178 [==============================] - 7s 843us/step - loss: 5.2371 - acc: 0.0456 - val_loss: 5.2290 - val_acc: 0.0372\n",
      "Epoch 4/20\n",
      "8178/8178 [==============================] - 7s 844us/step - loss: 5.0374 - acc: 0.0580 - val_loss: 5.0816 - val_acc: 0.0431\n",
      "Epoch 5/20\n",
      "8178/8178 [==============================] - 7s 842us/step - loss: 4.8967 - acc: 0.0665 - val_loss: 4.9996 - val_acc: 0.0470\n",
      "Epoch 6/20\n",
      "8178/8178 [==============================] - 7s 826us/step - loss: 4.7876 - acc: 0.0719 - val_loss: 4.9136 - val_acc: 0.0538\n",
      "Epoch 7/20\n",
      "8178/8178 [==============================] - 7s 839us/step - loss: 4.7015 - acc: 0.0814 - val_loss: 4.8406 - val_acc: 0.0538\n",
      "Epoch 8/20\n",
      "8178/8178 [==============================] - 7s 872us/step - loss: 4.6302 - acc: 0.0829 - val_loss: 4.8393 - val_acc: 0.0636\n",
      "Epoch 9/20\n",
      "8178/8178 [==============================] - 7s 846us/step - loss: 4.5739 - acc: 0.0912 - val_loss: 4.7924 - val_acc: 0.0626\n",
      "Epoch 10/20\n",
      "8178/8178 [==============================] - 7s 845us/step - loss: 4.5190 - acc: 0.0977 - val_loss: 4.7280 - val_acc: 0.0695\n",
      "Epoch 11/20\n",
      "8178/8178 [==============================] - 7s 837us/step - loss: 4.4718 - acc: 0.0978 - val_loss: 4.6906 - val_acc: 0.0636\n",
      "Epoch 12/20\n",
      "8178/8178 [==============================] - 7s 850us/step - loss: 4.4337 - acc: 0.1001 - val_loss: 4.6653 - val_acc: 0.0753\n",
      "Epoch 13/20\n",
      "8178/8178 [==============================] - 7s 854us/step - loss: 4.3959 - acc: 0.1077 - val_loss: 4.6683 - val_acc: 0.0705\n",
      "Epoch 14/20\n",
      "8178/8178 [==============================] - 7s 846us/step - loss: 4.3573 - acc: 0.1147 - val_loss: 4.6745 - val_acc: 0.0734\n",
      "Epoch 15/20\n",
      "8178/8178 [==============================] - 7s 874us/step - loss: 4.3317 - acc: 0.1129 - val_loss: 4.6430 - val_acc: 0.0744\n",
      "Epoch 16/20\n",
      "8178/8178 [==============================] - 7s 847us/step - loss: 4.3024 - acc: 0.1206 - val_loss: 4.6859 - val_acc: 0.0753\n",
      "Epoch 17/20\n",
      "8178/8178 [==============================] - 7s 846us/step - loss: 4.2755 - acc: 0.1200 - val_loss: 4.6214 - val_acc: 0.0793\n",
      "Epoch 18/20\n",
      "8178/8178 [==============================] - 7s 841us/step - loss: 4.2505 - acc: 0.1233 - val_loss: 4.6218 - val_acc: 0.0793\n",
      "Epoch 19/20\n",
      "8178/8178 [==============================] - 7s 844us/step - loss: 4.2267 - acc: 0.1303 - val_loss: 4.6292 - val_acc: 0.0734\n",
      "Epoch 20/20\n",
      "8178/8178 [==============================] - 7s 843us/step - loss: 4.2021 - acc: 0.1328 - val_loss: 4.6451 - val_acc: 0.0793\n"
     ]
    }
   ],
   "source": [
    "#Your code here; add fully connected layers on top of the convolutional base\n",
    "from keras import optimizers\n",
    "from keras import regularizers\n",
    "\n",
    "model = models.Sequential()\n",
    "model.add(layers.Dense(256, activation='relu', kernel_regularizer=regularizers.l2(0.005),  input_dim=2 * 2 * 512))\n",
    "model.add(layers.Dense(256, activation='relu', kernel_regularizer=regularizers.l2(0.005), input_dim=2 * 2 * 512))\n",
    "model.add(layers.Dense(256, activation='relu', kernel_regularizer=regularizers.l2(0.005),  input_dim=2 * 2 * 512))\n",
    "model.add(layers.Dense(120, activation='softmax'))\n",
    "\n",
    "model.compile(optimizer=optimizers.RMSprop(lr=1e-4),\n",
    "              loss='categorical_crossentropy',\n",
    "              metrics=['acc'])\n",
    "history = model.fit(train_features, train_labels,\n",
    "                    epochs=20,\n",
    "                    batch_size=10,\n",
    "                    validation_data=(validation_features, validation_labels))"
   ]
  },
  {
   "cell_type": "markdown",
   "metadata": {},
   "source": [
    "## Visualize History\n",
    "\n",
    "Now fit the model and visualize the training and validation accuracy/loss functions over successive epochs."
   ]
  },
  {
   "cell_type": "code",
   "execution_count": 41,
   "metadata": {},
   "outputs": [
    {
     "data": {
      "image/png": "[encoded data removed]",
      "text/plain": [
       "<Figure size 432x288 with 1 Axes>"
      ]
     },
     "metadata": {
      "needs_background": "light"
     },
     "output_type": "display_data"
    },
    {
     "data": {
      "image/png": "[encoded data removed]",
      "text/plain": [
       "<Figure size 432x288 with 1 Axes>"
      ]
     },
     "metadata": {
      "needs_background": "light"
     },
     "output_type": "display_data"
    }
   ],
   "source": [
    "#Your code here; visualize the training / validation history associated with fitting the model.\n",
    "train_acc = history.history['acc']\n",
    "val_acc = history.history['val_acc']\n",
    "train_loss = history.history['loss']\n",
    "val_loss = history.history['val_loss']\n",
    "epch = range(1, len(train_acc) + 1)\n",
    "plt.plot(epch, train_acc, 'g.', label='Training Accuracy')\n",
    "plt.plot(epch, val_acc, 'g', label='Validation acc')\n",
    "plt.title('Accuracy')\n",
    "plt.legend()\n",
    "plt.figure()\n",
    "plt.plot(epch, train_loss, 'r.', label='Training loss')\n",
    "plt.plot(epch, val_loss, 'r', label='Validation loss')\n",
    "plt.title('Loss')\n",
    "plt.legend()\n",
    "plt.show()"
   ]
  },
  {
   "cell_type": "code",
   "execution_count": 42,
   "metadata": {},
   "outputs": [],
   "source": [
    "#Save model\n",
    "model.save('my_model.h5') \n"
   ]
  },
  {
   "cell_type": "markdown",
   "metadata": {},
   "source": [
    "## Final Model Evaluation"
   ]
  },
  {
   "cell_type": "code",
   "execution_count": 43,
   "metadata": {},
   "outputs": [
    {
     "name": "stdout",
     "output_type": "stream",
     "text": [
      "1022/1022 [==============================] - 0s 100us/step\n"
     ]
    },
    {
     "data": {
      "text/plain": [
       "[4.632222752281831, 0.08512720176968322]"
      ]
     },
     "execution_count": 43,
     "metadata": {},
     "output_type": "execute_result"
    }
   ],
   "source": [
    "#Your code here\n",
    "results_test = model.evaluate(test_features, test_labels)\n",
    "results_test"
   ]
  },
  {
   "cell_type": "markdown",
   "metadata": {},
   "source": [
    "## Summary\n",
    "\n",
    "Congratulations! In this lab, you brought all of your prior deep learning skills together from preprocessing including one-hot encoding, to adapting a pretrained model. There are always ongoing advancements in CNN architectures and best practices, but you have a solid foundation and understanding at this point."
   ]
  }
 ],
 "metadata": {
  "kernelspec": {
   "display_name": "Python 3",
   "language": "python",
   "name": "python3"
  },
  "language_info": {
   "codemirror_mode": {
    "name": "ipython",
    "version": 3
   },
   "file_extension": ".py",
   "mimetype": "text/x-python",
   "name": "python",
   "nbconvert_exporter": "python",
   "pygments_lexer": "ipython3",
   "version": "3.7.0"
  }
 },
 "nbformat": 4,
 "nbformat_minor": 2
}
